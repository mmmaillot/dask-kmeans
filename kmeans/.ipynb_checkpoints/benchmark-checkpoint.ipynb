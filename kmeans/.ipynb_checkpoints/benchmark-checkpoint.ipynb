{
 "cells": [
  {
   "cell_type": "code",
   "execution_count": null,
   "metadata": {
    "collapsed": true
   },
   "outputs": [],
   "source": [
    "import dask.array as da\n",
    "import numpy as np\n",
    "from distributed import Client\n",
    "\n",
    "def init(X, k):\n",
    "    ''' Choose the values of the means for the first iteration'''\n",
    "    return X[np.random.choice(range(X.shape[0]), size=k)]\n",
    "    \n",
    "def assign(X, means, x_chunks, means_chunks):\n",
    "    '''Assign closest mean to the points'''\n",
    "    return euclidean_distance(X, means, x_chunks, means_chunks).argmin(axis=1)\n",
    "\n",
    "def update(X, labels):\n",
    "    '''Update the means by using the labels computed by assign'''\n",
    "    Y = X.to_dask_dataframe()\n",
    "    return Y.groupby(labels.to_dask_dataframe()).mean().values\n",
    "\n",
    "\n",
    "def euclidean_distance(X, Y, x_chunks, y_chunks):\n",
    "    '''X, a matrix (n,p), Y a matrix (m,p), returns an (n,m) distance matrix'''\n",
    "    X_square = (X * X).sum(axis=1, keepdims=True) * da.ones((1, Y.shape[0]), chunks=y_chunks)\n",
    "    Y_square = da.ones((X.shape[0], 1), chunks=(x_chunks)) * (Y * Y).sum(axis=1, keepdims=True).transpose()\n",
    "    return X_square - 2 * X.dot(y.transpose()) + Y_square\n",
    "\n",
    "def main(X,k,max_iter,x_chunks,means_chunks,cores):\n",
    "    client = Client()\n",
    "    means = init(X,k)\n",
    "    for i in range(max_iter):\n",
    "        old_means = means\n",
    "        labels = assign(X,means, x_chunks, means_chunks)\n",
    "        means = client.compute(update(X,labels),num_workers=cores)\n",
    "        if means == old_means:\n",
    "            break\n",
    "    return (means,labels)"
   ]
  },
  {
   "cell_type": "code",
   "execution_count": null,
   "metadata": {
    "collapsed": false
   },
   "outputs": [],
   "source": [
    "client = Client()"
   ]
  },
  {
   "cell_type": "code",
   "execution_count": null,
   "metadata": {
    "collapsed": false
   },
   "outputs": [],
   "source": [
    "#test\n",
    "size = 1000\n",
    "cores = 2\n",
    "x_chunks = (100,100)\n",
    "means_chunks = x_chunks\n",
    "\n",
    "k = 5\n",
    "max_iter = 100\n",
    "X = da.random.random((size,size),chunks=x_chunks)\n",
    "\n",
    "means,labels = main(X,k,max_iter,x_chunks,means_chunks,cores)"
   ]
  },
  {
   "cell_type": "code",
   "execution_count": null,
   "metadata": {
    "collapsed": false
   },
   "outputs": [],
   "source": [
    "means"
   ]
  }
 ],
 "metadata": {
  "kernelspec": {
   "display_name": "Python [default]",
   "language": "python",
   "name": "python3"
  },
  "language_info": {
   "codemirror_mode": {
    "name": "ipython",
    "version": 3
   },
   "file_extension": ".py",
   "mimetype": "text/x-python",
   "name": "python",
   "nbconvert_exporter": "python",
   "pygments_lexer": "ipython3",
   "version": "3.5.2"
  }
 },
 "nbformat": 4,
 "nbformat_minor": 2
}
